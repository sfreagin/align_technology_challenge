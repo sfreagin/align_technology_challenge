{
 "cells": [
  {
   "cell_type": "markdown",
   "id": "cc17df7d-63ad-4623-9cdc-923b988ad763",
   "metadata": {},
   "source": [
    "# Stephen Reagin \n",
    "## March 19, 2024 \n",
    "### Take-Home Challenge for Align Technology: Task 2"
   ]
  },
  {
   "cell_type": "markdown",
   "id": "51e564d6-efd0-4c49-81a0-47df4fa56f8b",
   "metadata": {},
   "source": [
    "**Description:**\n",
    "We recently improved our product design to reduce the aligner breakage rate and want to measure the impact of the improvement.\n",
    "\n",
    "**Question to answer:**\n",
    "How many samples do we need to show a 15% point reduction in breakage rate (before – after =15%) after the product improvement? We can assume 95% confidence level and 90% power.\n"
   ]
  },
  {
   "cell_type": "markdown",
   "id": "38bd7804-9149-405b-86aa-03aed2826a77",
   "metadata": {},
   "source": [
    "**Answer:**\n",
    "\n",
    "This is an example of a one-sample dichotomous outcome. References can be found [here](https://sphweb.bumc.bu.edu/otlt/mph-modules/bs/bs704_power/bs704_power_print.html) and a useful calculator [here](https://clincalc.com/stats/samplesize.aspx), where the general formula for sample size $N$ in this case is:\n",
    "\n",
    "$N = \\frac{p_{0}q_{0}\\Biggl\\{ z_{1-\\alpha/2} + z_{1-\\beta} \\sqrt{\\frac{p_{1}q_{1}}{p_{0}q_{0}}} \\Biggr\\}^{2}}{(p_{0} - p_{1})^{2}} $\n",
    "\n",
    "where:\n",
    "* $p_{0}$, $p_{1}$ = breakage rate of study group and population, respectively\n",
    "* $p_{0} - p_{1} = 0.15$ represents the reduction in breakage rate\n",
    "* $q_{i} = (1 - p_{i})$\n",
    "* $\\alpha = 0.05$\n",
    "* $\\beta = 0.1$ \n",
    "* $z_{1-\\alpha/2} = 1.96$\n",
    "* $z_{1-\\beta} = 1.28$\n",
    "\n",
    "Thus, the most complete answer we can give without actually knowing the original population breakage rate is:\n",
    "\n",
    "$N = \\frac{p_{0}q_{0}\\Biggl\\{ 1.96 + 1.282 \\sqrt{\\frac{p_{1}q_{1}}{p_{0}q_{0}}} \\Biggr\\}^{2}}{(0.15)^{2}} $\n",
    "\n",
    "That said, we can make it a little easier for our programmers with a little algebraic manipulation. Let's rewrite the entire formula so that $p_{0}$ is the only unknown variable, to be filled in by a later team:\n",
    "\n",
    "$N = \\frac{p_{0}(1-p_{0})\\Biggl\\{ 1.96 + 1.282 \\sqrt{\\frac{(p_{0}-0.15)(1.15-p_{0})}{p_{0}(1-p_{0})}} \\Biggr\\}^{2}}{(0.15)^{2}} $"
   ]
  },
  {
   "cell_type": "markdown",
   "id": "91ae0df1-6ff9-4f78-9fe9-1ff9219837d6",
   "metadata": {},
   "source": [
    "# Thank you for reading!"
   ]
  }
 ],
 "metadata": {
  "kernelspec": {
   "display_name": "Python 3 (ipykernel)",
   "language": "python",
   "name": "python3"
  },
  "language_info": {
   "codemirror_mode": {
    "name": "ipython",
    "version": 3
   },
   "file_extension": ".py",
   "mimetype": "text/x-python",
   "name": "python",
   "nbconvert_exporter": "python",
   "pygments_lexer": "ipython3",
   "version": "3.11.5"
  }
 },
 "nbformat": 4,
 "nbformat_minor": 5
}
